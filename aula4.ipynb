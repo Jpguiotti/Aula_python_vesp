{
 "cells": [
  {
   "cell_type": "markdown",
   "metadata": {},
   "source": [
    "# Revisão Aula Python\n",
    "- teste 1    \n",
    "    - teste 2              \n",
    "        -teste 3\n",
    "\n",
    "\n"
   ]
  },
  {
   "cell_type": "code",
   "execution_count": 16,
   "metadata": {},
   "outputs": [
    {
     "name": "stdout",
     "output_type": "stream",
     "text": [
      "ola, mundo\n",
      "jp\n",
      "jp <class 'str'>\n",
      "valor sem conversao <class 'int'>\n",
      "segundo valor ja convertido <class 'str'>\n",
      "ola, meu nome é jp e tenho 4 anos de idade\n",
      "20\n",
      "1010\n"
     ]
    }
   ],
   "source": [
    "nome = \"jp\"\n",
    "\n",
    "print(\"ola, mundo\")\n",
    "\n",
    "print(nome)\n",
    "\n",
    "print(nome, type(nome))\n",
    "\n",
    "\n",
    "valor = 15\n",
    "print('valor sem conversao', type(valor))\n",
    "valor = str(valor)\n",
    "print('segundo valor ja convertido',type(valor))\n",
    "\n",
    "idade = 4\n",
    "\n",
    "print(f'ola, meu nome é {nome} e tenho {idade} anos de idade')\n",
    "\n",
    "\n",
    "\n",
    "# Soma\n",
    "print(10+10)\n",
    "\n",
    "print('10'+'10')\n",
    "\n",
    "num1 = 10\n",
    "num2 =10\n",
    "\n",
    "valor1 = input('Digite o primeiro valor')\n",
    "valor1 = int(valor1)\n",
    "\n",
    "\n",
    "\n"
   ]
  },
  {
   "cell_type": "code",
   "execution_count": 74,
   "metadata": {},
   "outputs": [
    {
     "name": "stdout",
     "output_type": "stream",
     "text": [
      "Resultado de atribuicao de substituicao: 0.0\n",
      "Resultado de atribuicao de substituicao: 20\n"
     ]
    }
   ],
   "source": [
    "valor = 10\n",
    "valor *= 15\n",
    "valor /= 10\n",
    "valor //= 20\n",
    "\n",
    "\n",
    "print(f'Resultado de atribuicao de substituicao: {valor}')\n",
    "\n",
    "\n",
    "valor = 10\n",
    "valor += 10\n",
    "\n",
    "print(f'Resultado de atribuicao de substituicao: {valor}')"
   ]
  },
  {
   "cell_type": "markdown",
   "metadata": {},
   "source": [
    "## Atividade \n",
    "\n",
    "- Crie um programa para o Boletim de notas do aluno. Guarde o nome do aluno, as notas e calcule a media final do aluno\n",
    "\n",
    "- Disciclinas \n",
    "    - Matemática\n",
    "    - Portugues\n",
    "    - Geografia\n",
    "    - Historia\n",
    "    - Fisica\n",
    "\n",
    "- Ao obter as notas e a media das notas, imprima o boletim di aluno informando as notas materias e com quanto ele ficou de media\n"
   ]
  },
  {
   "cell_type": "code",
   "execution_count": 1,
   "metadata": {},
   "outputs": [
    {
     "name": "stdout",
     "output_type": "stream",
     "text": [
      "------------------------------ Boletim Escolar ------------------------------\n",
      "nome do aluno: Joao \n",
      "Matematica: 4.0\n",
      "portugues: 5.0\n",
      "nota_Geografias: 6.0\n",
      "nota_Geografias: 3.0\n",
      "nota_Geografias: 2.0\n",
      "------------------------------ Boletim Escolar ------------------------------\n"
     ]
    }
   ],
   "source": [
    "# Boletim\n",
    "\n",
    "print(30*('-'),\"Boletim Escolar\", 30*('-'))\n",
    "\n",
    "nome = input(\"Digite seu nome\")\n",
    "\n",
    "nota_matematica = input(\"Informe a nota de Matematica\")\n",
    "nota_portugues = input(\"Informe a nota de portugues\")\n",
    "nota_Geografias = input(\"Informe a nota de Geografia\")\n",
    "nota_Historia = input(\"Informe a nota de Historia\")\n",
    "nota_Física = input(\"Informe a nota de Fisica\")\n",
    "\n",
    "nota_matematica = float(nota_matematica)\n",
    "nota_portugues = float(nota_portugues)\n",
    "nota_Geografias = float(nota_Geografias)\n",
    "nota_Historia = float(nota_Historia)\n",
    "nota_Física = float(nota_Física)\n",
    "\n",
    "media = (nota_matematica + nota_portugues + nota_Geografias + nota_Historia + nota_Física)/5\n",
    "print(f'nome do aluno: {nome}')\n",
    "print(f'Matematica: {nota_matematica}')\n",
    "print(f'portugues: {nota_portugues}')\n",
    "print(f'nota_Geografias: {nota_Geografias}')\n",
    "print(f'nota_Geografias: {nota_Historia}')\n",
    "print(f'nota_Geografias: {nota_Física}')\n",
    "\n",
    "\n",
    "print(30*('-'),\"Boletim Escolar\", 30*('-'))\n",
    "\n"
   ]
  }
 ],
 "metadata": {
  "kernelspec": {
   "display_name": ".venv",
   "language": "python",
   "name": "python3"
  },
  "language_info": {
   "codemirror_mode": {
    "name": "ipython",
    "version": 3
   },
   "file_extension": ".py",
   "mimetype": "text/x-python",
   "name": "python",
   "nbconvert_exporter": "python",
   "pygments_lexer": "ipython3",
   "version": "3.12.4"
  }
 },
 "nbformat": 4,
 "nbformat_minor": 2
}
