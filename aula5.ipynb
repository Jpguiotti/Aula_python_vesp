{
 "cells": [
  {
   "cell_type": "code",
   "execution_count": 7,
   "metadata": {},
   "outputs": [
    {
     "name": "stdout",
     "output_type": "stream",
     "text": [
      "if falso\n",
      "finalizou o codigo\n"
     ]
    }
   ],
   "source": [
    "programador = False\n",
    "\n",
    "if programador :    \n",
    "    print('if é verdadeiro')\n",
    "\n",
    "\n",
    "else:\n",
    "    print('if falso')\n",
    "\n",
    "\n",
    "print('finalizou o codigo')\n",
    "\n"
   ]
  },
  {
   "cell_type": "code",
   "execution_count": 21,
   "metadata": {},
   "outputs": [
    {
     "name": "stdout",
     "output_type": "stream",
     "text": [
      "aluno aprovado\n"
     ]
    }
   ],
   "source": [
    "nota = 7\n",
    "\n",
    "if nota >=7:\n",
    "    print(\"aluno aprovado\")\n",
    "elif nota >=5:\n",
    "    print(\"Esta de Recuperação\")\n",
    "else:\n",
    "    print(\"reprovado\")"
   ]
  },
  {
   "cell_type": "code",
   "execution_count": 37,
   "metadata": {},
   "outputs": [
    {
     "name": "stdout",
     "output_type": "stream",
     "text": [
      "Digite se o número é par ou impar\n",
      "O numero 5 é impar\n"
     ]
    }
   ],
   "source": [
    "print(\"Digite se o número é par ou impar\")\n",
    "\n",
    "num1 = input(\"Digite um número\")\n",
    "num1 = int(num1)\n",
    "\n",
    "# verificar se o resto da divisao do mumero por 2 é igual a 0\n",
    "if num1 % 2 == 0:\n",
    "    print(f\"O numero {num1} é par!\")\n",
    "else:\n",
    "    print(f\"O numero {num1} é impar\")\n",
    "\n",
    "\n",
    "\n",
    "\n",
    "\n"
   ]
  },
  {
   "cell_type": "markdown",
   "metadata": {},
   "source": [
    "## Desafio 2 \n",
    "- Um elevador de carga possui capacidade para 200kg\n",
    "    - Crie um programa que receba do usuário o peso da carga, ou seu peso e verifica se a carga esta autorizada a usar o elevador ou não."
   ]
  },
  {
   "cell_type": "code",
   "execution_count": 44,
   "metadata": {},
   "outputs": [
    {
     "name": "stdout",
     "output_type": "stream",
     "text": [
      "Peso total: 203.0 impedido de usar elevador\n"
     ]
    }
   ],
   "source": [
    "peso_carga = input(\"informe o peso da carga\")\n",
    "peso_carga = float(peso_carga)\n",
    "peso_usuario = input(\"informe o peso_usurario\")\n",
    "peso_usuario = float(peso_usuario)\n",
    "\n",
    "soma = peso_usuario + peso_carga\n",
    "\n",
    "if soma >=200:\n",
    "    print(f'Peso total: {soma} impedido de usar elevador')\n",
    "\n",
    "else:\n",
    "    print(f\"Pesto total: {soma} Sim pode subir\")"
   ]
  },
  {
   "cell_type": "markdown",
   "metadata": {},
   "source": [
    "## Desafio 3\n",
    "\n",
    " - Crie um sistema para coletar os dados do aluno, ( nome, idade, cpf), em seguida solicite as notas dos 4 bimetres da diciplina de Ptython que o aluno teve para verificar a MEDIA.\n",
    "    -Media para aprovação >= 7\n",
    "    -Media para recuperação >= 5\n",
    "    -Media para reprovação <5 (somente else)\n",
    "\n",
    "- Para retirar o boletim de notas, o aluno presisa ser maior de idade(18) e caso não seja. somente os pais podem retirar o boletim\n",
    "    -Imprima as informações do aluno\n",
    "    -Imprima as notas do aluno em casa bimestre\n",
    "    -Imprima a situação do aluno (aprovado, reprovado, recuperação)\n",
    "    -Imprima se o boletim sera retirado pelos pais ou pelo proprio aluno"
   ]
  },
  {
   "cell_type": "code",
   "execution_count": 55,
   "metadata": {},
   "outputs": [
    {
     "ename": "SyntaxError",
     "evalue": "expected ':' (2459664252.py, line 12)",
     "output_type": "error",
     "traceback": [
      "\u001b[1;36m  Cell \u001b[1;32mIn[55], line 12\u001b[1;36m\u001b[0m\n\u001b[1;33m    if media >=7\u001b[0m\n\u001b[1;37m                ^\u001b[0m\n\u001b[1;31mSyntaxError\u001b[0m\u001b[1;31m:\u001b[0m expected ':'\n"
     ]
    }
   ],
   "source": [
    "nome = input(\"Nome\").upper()\n",
    "idade = input(\"idade\")\n",
    "cpf = input(\"cpf\")\n",
    "\n",
    "n1 = input(\"informe a nota 1\")\n",
    "n2 = input(\"informe a nota 2\")\n",
    "n3 = input(\"informe a nota 3\")\n",
    "n4 = input(\"informe a nota 4\")\n",
    "\n",
    "media = (n1 + n2 + n3 + n4)/4\n",
    "\n",
    "if media >=7\n",
    "    print(f'Aluno {nome}, idade {idade}, cpf {cpf} \"Notas\":')\n",
    "\n",
    "elif media >=5\n",
    "    print(f'Aluno esta reprovado')\n",
    "\n",
    "else >-5\n",
    "    print(f\"Aluno aprovado \")\n",
    "\n",
    "\n",
    "\n",
    "\n",
    "\n"
   ]
  },
  {
   "cell_type": "markdown",
   "metadata": {},
   "source": []
  },
  {
   "cell_type": "markdown",
   "metadata": {},
   "source": []
  }
 ],
 "metadata": {
  "kernelspec": {
   "display_name": ".venv",
   "language": "python",
   "name": "python3"
  },
  "language_info": {
   "codemirror_mode": {
    "name": "ipython",
    "version": 3
   },
   "file_extension": ".py",
   "mimetype": "text/x-python",
   "name": "python",
   "nbconvert_exporter": "python",
   "pygments_lexer": "ipython3",
   "version": "3.12.4"
  }
 },
 "nbformat": 4,
 "nbformat_minor": 2
}
