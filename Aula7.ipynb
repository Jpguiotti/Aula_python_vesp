{
 "cells": [
  {
   "cell_type": "code",
   "execution_count": 3,
   "metadata": {},
   "outputs": [
    {
     "name": "stdout",
     "output_type": "stream",
     "text": [
      "Ok, saindo do sistema!\n"
     ]
    }
   ],
   "source": [
    "while True: \n",
    "    opcao = input('Deseja calcular um IMC? (s/n): ').lower()\n",
    "\n",
    "    if opcao == 's':\n",
    "        print(\"calculadora básica\")\n",
    "        num1=input('Digite o primeiro número:')\n",
    "        num2 = input('Digite o segundo número:')\n",
    "        num1 = float(num1)\n",
    "        num2 = float(num2)\n",
    "        operacao = input('Digite a operacao que deseja realizar: (+),(-),(/),(*)')\n",
    "        if operacao == '+':\n",
    "            print(f'A soma dos números {num1} + {num2} + = {num1 + num2}')\n",
    "\n",
    "    else:\n",
    "        \n",
    "        print('Ok, saindo do sistema!')\n",
    "        break\n",
    "    "
   ]
  },
  {
   "cell_type": "markdown",
   "metadata": {},
   "source": []
  },
  {
   "cell_type": "code",
   "execution_count": 7,
   "metadata": {},
   "outputs": [
    {
     "ename": "IndentationError",
     "evalue": "unexpected indent (4244609760.py, line 16)",
     "output_type": "error",
     "traceback": [
      "\u001b[1;36m  Cell \u001b[1;32mIn[7], line 16\u001b[1;36m\u001b[0m\n\u001b[1;33m    if opcao = \"1\"\u001b[0m\n\u001b[1;37m    ^\u001b[0m\n\u001b[1;31mIndentationError\u001b[0m\u001b[1;31m:\u001b[0m unexpected indent\n"
     ]
    }
   ],
   "source": [
    "print(\"60*\"-\" Cinema do ZEZINHO,60*\"-\"\")\n",
    "\n",
    "nome = input('digite seu nome, bizonho: ')\n",
    "idade = input('digite sua idade: ')\n",
    "sensura = input('filme sensurado para menores de 18 anos')\n",
    "\n",
    "\n",
    "while True:    \n",
    "    desejo = input('Deseja reservar um ingresso?')\n",
    "    print(\"Filme Zé do caixao vira presidente do Brasil\")\n",
    "    print('Ataanderson resolve sair do Armario2')\n",
    "    print('Professor me ajudar pois não sei de nada')\n",
    "    print(\"Gordo do espaço\")\n",
    "    print(\"Brasil agora é primeiro mundo\")\n",
    "    opcao = input(\"digite a opcao desejada: (1), (2), (3), (4), (5)\")\n",
    "        if opcao = \"1\"\n",
    "        \n",
    "    \n",
    "        \n",
    " \n",
    "\n",
    "        \n",
    "\n"
   ]
  }
 ],
 "metadata": {
  "kernelspec": {
   "display_name": "Python 3",
   "language": "python",
   "name": "python3"
  },
  "language_info": {
   "codemirror_mode": {
    "name": "ipython",
    "version": 3
   },
   "file_extension": ".py",
   "mimetype": "text/x-python",
   "name": "python",
   "nbconvert_exporter": "python",
   "pygments_lexer": "ipython3",
   "version": "3.12.4"
  }
 },
 "nbformat": 4,
 "nbformat_minor": 2
}
